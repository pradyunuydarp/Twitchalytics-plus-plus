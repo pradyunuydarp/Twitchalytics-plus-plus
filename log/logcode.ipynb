{
 "cells": [
  {
   "cell_type": "markdown",
   "metadata": {},
   "source": [
    "2. Heatmap: Viewer count across genres and streamers\n",
    "A heatmap can show which genres have higher viewer engagement across the top streamers."
   ]
  },
  {
   "cell_type": "code",
   "execution_count": null,
   "metadata": {
    "vscode": {
     "languageId": "plaintext"
    }
   },
   "outputs": [],
   "source": []
  },
  {
   "cell_type": "code",
   "execution_count": null,
   "metadata": {
    "vscode": {
     "languageId": "plaintext"
    }
   },
   "outputs": [],
   "source": [
    "# Filter for top genres and streamers for better visualization\n",
    "top_genres = genre_stats['Genres'].head(10)  # Top 10 genres\n",
    "top_streamers = df_2020.groupby('Streamers')['Avg_viewers'].mean().nlargest(10).index  # Top 10 streamers\n",
    "\n",
    "# Subset data for the heatmap\n",
    "heatmap_data = df_genre_analysis[\n",
    "    (df_genre_analysis['Genres'].isin(top_genres)) &\n",
    "    (df_genre_analysis['Streamers'].isin(top_streamers))\n",
    "]\n",
    "heatmap_pivot = heatmap_data.pivot_table(\n",
    "    index='Genres', columns='Streamers', values='Avg_viewers', aggfunc='mean'\n",
    ").fillna(0)\n",
    "\n",
    "# Plot heatmap\n",
    "plt.figure(figsize=(12, 8))\n",
    "sns.heatmap(heatmap_pivot, annot=True, fmt=\".1f\", cmap='coolwarm', linewidths=0.5)\n",
    "plt.title('Viewer Count by Genre and Top Streamers', fontsize=16)\n",
    "plt.xlabel('Streamers', fontsize=12)\n",
    "plt.ylabel('Genre', fontsize=12)\n",
    "plt.tight_layout()\n",
    "plt.show()\n"
   ]
  },
  {
   "cell_type": "markdown",
   "metadata": {},
   "source": [
    "Step 4: Checking Feature Significance\n",
    "Sometimes, high correlation between features can lead to multicollinearity. You can use VIF (Variance Inflation Factor) to check how much each feature is correlated with the others. This is particularly useful for identifying redundant features"
   ]
  },
  {
   "cell_type": "code",
   "execution_count": null,
   "metadata": {
    "vscode": {
     "languageId": "plaintext"
    }
   },
   "outputs": [],
   "source": [
    "# from statsmodels.stats.outliers_influence import variance_inflation_factor\n",
    "# from statsmodels.tools.tools import add_constant\n",
    "\n",
    "# # Add constant for VIF calculation\n",
    "# X_train_const = add_constant(X_train)\n",
    "\n",
    "# # Calculate VIF for each feature\n",
    "# vif_data = pd.DataFrame()\n",
    "# vif_data['Feature'] = X_train_const.columns\n",
    "# vif_data['VIF'] = [variance_inflation_factor(X_train_const.values, i) for i in range(X_train_const.shape[1])]\n",
    "\n",
    "# # Display VIF data\n",
    "# vif_data.sort_values(by='VIF', ascending=False)\n"
   ]
  }
 ],
 "metadata": {
  "language_info": {
   "name": "python"
  }
 },
 "nbformat": 4,
 "nbformat_minor": 2
}
